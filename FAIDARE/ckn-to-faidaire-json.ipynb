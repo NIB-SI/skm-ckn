{
 "cells": [
  {
   "cell_type": "markdown",
   "id": "fb51feab",
   "metadata": {
    "toc": true
   },
   "source": [
    "<h1>Table of Contents<span class=\"tocSkip\"></span></h1>\n",
    "<div class=\"toc\"><ul class=\"toc-item\"><li><span><a href=\"#Generate-JSON-file-for-FAIDARE\" data-toc-modified-id=\"Generate-JSON-file-for-FAIDARE-1\"><span class=\"toc-item-num\">1&nbsp;&nbsp;</span>Generate JSON file for FAIDARE</a></span></li><li><span><a href=\"#Library-import\" data-toc-modified-id=\"Library-import-2\"><span class=\"toc-item-num\">2&nbsp;&nbsp;</span>Library import</a></span></li><li><span><a href=\"#Prepare-data\" data-toc-modified-id=\"Prepare-data-3\"><span class=\"toc-item-num\">3&nbsp;&nbsp;</span>Prepare data</a></span><ul class=\"toc-item\"><li><span><a href=\"#Load-node-annotation-file\" data-toc-modified-id=\"Load-node-annotation-file-3.1\"><span class=\"toc-item-num\">3.1&nbsp;&nbsp;</span>Load node annotation file</a></span></li><li><span><a href=\"#Load-CKN-as-a-network\" data-toc-modified-id=\"Load-CKN-as-a-network-3.2\"><span class=\"toc-item-num\">3.2&nbsp;&nbsp;</span>Load CKN as a network</a></span><ul class=\"toc-item\"><li><span><a href=\"#Apply-rank-filter\" data-toc-modified-id=\"Apply-rank-filter-3.2.1\"><span class=\"toc-item-num\">3.2.1&nbsp;&nbsp;</span>Apply rank filter</a></span></li><li><span><a href=\"#Apply-node-filter\" data-toc-modified-id=\"Apply-node-filter-3.2.2\"><span class=\"toc-item-num\">3.2.2&nbsp;&nbsp;</span>Apply node filter</a></span></li><li><span><a href=\"#Clean-up-network\" data-toc-modified-id=\"Clean-up-network-3.2.3\"><span class=\"toc-item-num\">3.2.3&nbsp;&nbsp;</span>Clean up network</a></span></li></ul></li></ul></li><li><span><a href=\"#Generate-the-attributes-for-export\" data-toc-modified-id=\"Generate-the-attributes-for-export-4\"><span class=\"toc-item-num\">4&nbsp;&nbsp;</span>Generate the attributes for export</a></span><ul class=\"toc-item\"><li><span><a href=\"#The-&quot;easy&quot;-attributes\" data-toc-modified-id=\"The-&quot;easy&quot;-attributes-4.1\"><span class=\"toc-item-num\">4.1&nbsp;&nbsp;</span>The \"easy\" attributes</a></span></li><li><span><a href=\"#The-GMM-(GoMapMan)-ontology-annotations\" data-toc-modified-id=\"The-GMM-(GoMapMan)-ontology-annotations-4.2\"><span class=\"toc-item-num\">4.2&nbsp;&nbsp;</span>The GMM (GoMapMan) ontology annotations</a></span></li><li><span><a href=\"#The-description...\" data-toc-modified-id=\"The-description...-4.3\"><span class=\"toc-item-num\">4.3&nbsp;&nbsp;</span>The description...</a></span></li></ul></li><li><span><a href=\"#END\" data-toc-modified-id=\"END-5\"><span class=\"toc-item-num\">5&nbsp;&nbsp;</span>END</a></span></li></ul></div>"
   ]
  },
  {
   "cell_type": "markdown",
   "id": "5dd4fce6",
   "metadata": {},
   "source": [
    "# Generate JSON file for FAIDARE\n",
    "\n",
    "Code to generate file for indexing CKN in [FAIDARE](https://urgi.versailles.inra.fr/faidare/) following \n",
    "instructions https://urgi.versailles.inra.fr/faidare/join"
   ]
  },
  {
   "cell_type": "markdown",
   "id": "271d1602",
   "metadata": {},
   "source": [
    "#  Library import"
   ]
  },
  {
   "cell_type": "code",
   "execution_count": 1,
   "id": "c65b00cc",
   "metadata": {},
   "outputs": [
    {
     "data": {
      "text/plain": [
       "'2023-12-13'"
      ]
     },
     "execution_count": 1,
     "metadata": {},
     "output_type": "execute_result"
    }
   ],
   "source": [
    "import pandas as pd\n",
    "\n",
    "import json\n",
    "\n",
    "import gzip\n",
    "import networkx as nx\n",
    "\n",
    "from datetime import datetime\n",
    "today = datetime.today().strftime('%Y-%m-%d'); today"
   ]
  },
  {
   "cell_type": "markdown",
   "id": "8a5815cf",
   "metadata": {},
   "source": [
    "# Prepare data\n",
    "\n",
    "The following files are availible at [skm.nib.si/downloads](https://skm.nib.si/downloads/). "
   ]
  },
  {
   "cell_type": "code",
   "execution_count": 2,
   "id": "4e14c135",
   "metadata": {},
   "outputs": [],
   "source": [
    "node_annotation_file = \"ckn/AtCKN-v2-2023.06_node-annot.tsv.gz\"\n",
    "edge_list_file = \"ckn/AtCKN-v2-2023.06.tsv.gz\""
   ]
  },
  {
   "cell_type": "markdown",
   "id": "3356c1e8",
   "metadata": {},
   "source": [
    "## Load node annotation file"
   ]
  },
  {
   "cell_type": "code",
   "execution_count": 3,
   "id": "8140978c",
   "metadata": {},
   "outputs": [
    {
     "data": {
      "text/html": [
       "<div>\n",
       "<style scoped>\n",
       "    .dataframe tbody tr th:only-of-type {\n",
       "        vertical-align: middle;\n",
       "    }\n",
       "\n",
       "    .dataframe tbody tr th {\n",
       "        vertical-align: top;\n",
       "    }\n",
       "\n",
       "    .dataframe thead th {\n",
       "        text-align: right;\n",
       "    }\n",
       "</style>\n",
       "<table border=\"1\" class=\"dataframe\">\n",
       "  <thead>\n",
       "    <tr style=\"text-align: right;\">\n",
       "      <th></th>\n",
       "      <th>node_ID</th>\n",
       "      <th>node_type</th>\n",
       "      <th>species</th>\n",
       "      <th>TAIR</th>\n",
       "      <th>short_name</th>\n",
       "      <th>synonyms</th>\n",
       "      <th>full_name</th>\n",
       "      <th>GMM</th>\n",
       "      <th>note</th>\n",
       "      <th>tissue</th>\n",
       "    </tr>\n",
       "  </thead>\n",
       "  <tbody>\n",
       "    <tr>\n",
       "      <th>0</th>\n",
       "      <td>12,13-EOT</td>\n",
       "      <td>metabolite</td>\n",
       "      <td>NaN</td>\n",
       "      <td>NaN</td>\n",
       "      <td>12,13-EOT</td>\n",
       "      <td>NaN</td>\n",
       "      <td>12,13(S)-epoxylinolenic acid</td>\n",
       "      <td>NaN</td>\n",
       "      <td>NaN</td>\n",
       "      <td>not assigned</td>\n",
       "    </tr>\n",
       "    <tr>\n",
       "      <th>1</th>\n",
       "      <td>12-OH-JA-Ile</td>\n",
       "      <td>metabolite</td>\n",
       "      <td>NaN</td>\n",
       "      <td>NaN</td>\n",
       "      <td>12-OH-JA-Ile</td>\n",
       "      <td>NaN</td>\n",
       "      <td>12-hydroxyjasmonic acid 12-O-&amp;beta;-D-glucoside</td>\n",
       "      <td>NaN</td>\n",
       "      <td>NaN</td>\n",
       "      <td>not assigned</td>\n",
       "    </tr>\n",
       "    <tr>\n",
       "      <th>2</th>\n",
       "      <td>13-HPOT</td>\n",
       "      <td>metabolite</td>\n",
       "      <td>NaN</td>\n",
       "      <td>NaN</td>\n",
       "      <td>13-HPOT</td>\n",
       "      <td>NaN</td>\n",
       "      <td>13(S)-hydroperoxylinolenic acid</td>\n",
       "      <td>NaN</td>\n",
       "      <td>NaN</td>\n",
       "      <td>not assigned</td>\n",
       "    </tr>\n",
       "    <tr>\n",
       "      <th>3</th>\n",
       "      <td>3H3PP-CoA</td>\n",
       "      <td>metabolite</td>\n",
       "      <td>NaN</td>\n",
       "      <td>NaN</td>\n",
       "      <td>3H3PP-CoA</td>\n",
       "      <td>NaN</td>\n",
       "      <td>3-hydroxy-3-phenylpropanoyl-CoA</td>\n",
       "      <td>NaN</td>\n",
       "      <td>NaN</td>\n",
       "      <td>not assigned</td>\n",
       "    </tr>\n",
       "    <tr>\n",
       "      <th>4</th>\n",
       "      <td>3O3PP-CoA</td>\n",
       "      <td>metabolite</td>\n",
       "      <td>NaN</td>\n",
       "      <td>NaN</td>\n",
       "      <td>3O3PP-CoA</td>\n",
       "      <td>NaN</td>\n",
       "      <td>3-oxo-3-phenylpropanoyl-CoA</td>\n",
       "      <td>NaN</td>\n",
       "      <td>NaN</td>\n",
       "      <td>not assigned</td>\n",
       "    </tr>\n",
       "  </tbody>\n",
       "</table>\n",
       "</div>"
      ],
      "text/plain": [
       "        node_ID   node_type species TAIR    short_name synonyms  \\\n",
       "0     12,13-EOT  metabolite     NaN  NaN     12,13-EOT      NaN   \n",
       "1  12-OH-JA-Ile  metabolite     NaN  NaN  12-OH-JA-Ile      NaN   \n",
       "2       13-HPOT  metabolite     NaN  NaN       13-HPOT      NaN   \n",
       "3     3H3PP-CoA  metabolite     NaN  NaN     3H3PP-CoA      NaN   \n",
       "4     3O3PP-CoA  metabolite     NaN  NaN     3O3PP-CoA      NaN   \n",
       "\n",
       "                                         full_name  GMM note        tissue  \n",
       "0                     12,13(S)-epoxylinolenic acid  NaN  NaN  not assigned  \n",
       "1  12-hydroxyjasmonic acid 12-O-&beta;-D-glucoside  NaN  NaN  not assigned  \n",
       "2                  13(S)-hydroperoxylinolenic acid  NaN  NaN  not assigned  \n",
       "3                  3-hydroxy-3-phenylpropanoyl-CoA  NaN  NaN  not assigned  \n",
       "4                      3-oxo-3-phenylpropanoyl-CoA  NaN  NaN  not assigned  "
      ]
     },
     "execution_count": 3,
     "metadata": {},
     "output_type": "execute_result"
    }
   ],
   "source": [
    "df_nodes = pd.read_csv(node_annotation_file, sep=\"\\t\")\n",
    "df_nodes.head()"
   ]
  },
  {
   "cell_type": "markdown",
   "id": "7a020b06",
   "metadata": {},
   "source": [
    "## Load CKN as a network\n",
    "\n",
    "Load CKN as a network, and add node annotations\n",
    "Use the network formalisms to extract up- and downstream interactions \n",
    "for the \"description\" field\n"
   ]
  },
  {
   "cell_type": "code",
   "execution_count": 4,
   "id": "1fb38563",
   "metadata": {},
   "outputs": [],
   "source": [
    "with gzip.open(edge_list_file, \"tr\") as handle:\n",
    "    handle.readline()\n",
    "    g = nx.read_edgelist(handle,\n",
    "                delimiter=\"\\t\",\n",
    "                create_using=nx.DiGraph,\n",
    "                data=[\n",
    "                    ('effect', str),\n",
    "                    ('type', str),\n",
    "                    ('rank', int),\n",
    "                    ('species', str),\n",
    "                    ('isDirected', int),\n",
    "                    ('isTFregulation', int),\n",
    "                    ('interactionSources', str)\n",
    "                ])\n",
    "nx.set_node_attributes(g, df_nodes.set_index(\"node_ID\").to_dict('index'))\n",
    "\n",
    "# add reciprocal edges:\n",
    "edges_to_add = []\n",
    "for u, v, data in g.edges(data=True):\n",
    "    if (data[\"isDirected\"] == 0) and ( not g.has_edge(v, u) ):\n",
    "        edges_to_add.append((v, u, data))\n",
    "_ = g.add_edges_from(edges_to_add)\n"
   ]
  },
  {
   "cell_type": "markdown",
   "id": "56592b1d",
   "metadata": {},
   "source": [
    "### Apply rank filter\n",
    "Only use genes that are visible in [CKN Explorer](https://skm.nib.si/ckn/) using the default filters\n",
    "(rank 0, 1, 2 = highly reliable), and remove \"lower\" ranks."
   ]
  },
  {
   "cell_type": "code",
   "execution_count": 5,
   "id": "b3713b46",
   "metadata": {},
   "outputs": [
    {
     "data": {
      "text/plain": [
       "107029"
      ]
     },
     "execution_count": 5,
     "metadata": {},
     "output_type": "execute_result"
    }
   ],
   "source": [
    "to_remove = []\n",
    "for r in [3, 4]:\n",
    "    to_remove += [(u,v) for u, v, d in g.edges(data=True,) if d[\"rank\"]==r]\n",
    "g.remove_edges_from(to_remove)\n",
    "g.number_of_edges()"
   ]
  },
  {
   "cell_type": "markdown",
   "id": "8a2bb4e4",
   "metadata": {},
   "source": [
    "### Apply node filter\n",
    "Also remove \"abstracted\" nodes (e.g. complexes, processes, abiotic factors, etc)"
   ]
  },
  {
   "cell_type": "code",
   "execution_count": 6,
   "id": "cf1e63f1",
   "metadata": {},
   "outputs": [],
   "source": [
    "node_types = {\n",
    " 'antisense_long_noncoding_rna',\n",
    " 'metabolite',\n",
    " 'mirna',\n",
    " 'other_rna',\n",
    " 'pre_trna',\n",
    " 'protein_coding',\n",
    " 'pseudogene',\n",
    " 'small_nuclear_rna',\n",
    " 'small_nucleolar_rna',\n",
    " 'transposable_element_gene'\n",
    "}\n",
    "\n",
    "wrong_type = [n for n, data in g.nodes(data=True) if not (data['node_type'] in node_types)]\n",
    "g.remove_nodes_from(wrong_type)"
   ]
  },
  {
   "cell_type": "markdown",
   "id": "8d0af082",
   "metadata": {},
   "source": [
    "### Clean up network"
   ]
  },
  {
   "cell_type": "code",
   "execution_count": 7,
   "id": "0ca6a2d2",
   "metadata": {},
   "outputs": [],
   "source": [
    "isolates = list(nx.isolates(g))\n",
    "g.remove_nodes_from(isolates)"
   ]
  },
  {
   "cell_type": "markdown",
   "id": "3f6d7633",
   "metadata": {},
   "source": [
    "# Generate the attributes for export\n",
    "\n",
    "Only interested in annotating genes with TAIR identifier"
   ]
  },
  {
   "cell_type": "code",
   "execution_count": 8,
   "id": "5e31195c",
   "metadata": {},
   "outputs": [
    {
     "data": {
      "text/plain": [
       "(13295, 10)"
      ]
     },
     "execution_count": 8,
     "metadata": {},
     "output_type": "execute_result"
    }
   ],
   "source": [
    "df_annots = df_nodes[~df_nodes[\"TAIR\"].isna()].copy()\n",
    "df_annots = df_annots[df_annots[\"TAIR\"].isin(g.nodes())]\n",
    "df_annots.shape"
   ]
  },
  {
   "cell_type": "markdown",
   "id": "016ca91c",
   "metadata": {},
   "source": [
    "## The \"easy\" attributes"
   ]
  },
  {
   "cell_type": "code",
   "execution_count": 9,
   "id": "7e001d3b",
   "metadata": {},
   "outputs": [
    {
     "data": {
      "text/html": [
       "<div>\n",
       "<style scoped>\n",
       "    .dataframe tbody tr th:only-of-type {\n",
       "        vertical-align: middle;\n",
       "    }\n",
       "\n",
       "    .dataframe tbody tr th {\n",
       "        vertical-align: top;\n",
       "    }\n",
       "\n",
       "    .dataframe thead th {\n",
       "        text-align: right;\n",
       "    }\n",
       "</style>\n",
       "<table border=\"1\" class=\"dataframe\">\n",
       "  <thead>\n",
       "    <tr style=\"text-align: right;\">\n",
       "      <th></th>\n",
       "      <th>node_ID</th>\n",
       "      <th>node_type</th>\n",
       "      <th>species</th>\n",
       "      <th>TAIR</th>\n",
       "      <th>short_name</th>\n",
       "      <th>synonyms</th>\n",
       "      <th>full_name</th>\n",
       "      <th>GMM</th>\n",
       "      <th>note</th>\n",
       "      <th>tissue</th>\n",
       "      <th>url</th>\n",
       "      <th>node</th>\n",
       "      <th>databaseName</th>\n",
       "      <th>entryType</th>\n",
       "      <th>name</th>\n",
       "    </tr>\n",
       "  </thead>\n",
       "  <tbody>\n",
       "    <tr>\n",
       "      <th>12</th>\n",
       "      <td>AT1G01010</td>\n",
       "      <td>protein_coding</td>\n",
       "      <td>Arabidopsis thaliana</td>\n",
       "      <td>AT1G01010</td>\n",
       "      <td>NAC001</td>\n",
       "      <td>NTL10|NAC domain containing protein 1|ANAC001|...</td>\n",
       "      <td>NAC domain containing protein 1</td>\n",
       "      <td>27.3.27_RNA.regulation of transcription.NAC do...</td>\n",
       "      <td>NaN</td>\n",
       "      <td>leaf,stem,root,flower</td>\n",
       "      <td>https://skm.nib.si/ckn/?identifier=AT1G01010</td>\n",
       "      <td>NIB</td>\n",
       "      <td>SKM</td>\n",
       "      <td>Gene</td>\n",
       "      <td>AT1G01010</td>\n",
       "    </tr>\n",
       "    <tr>\n",
       "      <th>15</th>\n",
       "      <td>AT1G01040</td>\n",
       "      <td>protein_coding</td>\n",
       "      <td>Arabidopsis thaliana</td>\n",
       "      <td>AT1G01040</td>\n",
       "      <td>DCL1</td>\n",
       "      <td>SIN1|SUS1|EMBRYO DEFECTIVE 60|ASU1|EMBRYO DEFE...</td>\n",
       "      <td>dicer-like 1</td>\n",
       "      <td>27.1.20_RNA.processing.degradation dicer</td>\n",
       "      <td>NaN</td>\n",
       "      <td>seed,root,leaf,stem,flower</td>\n",
       "      <td>https://skm.nib.si/ckn/?identifier=AT1G01040</td>\n",
       "      <td>NIB</td>\n",
       "      <td>SKM</td>\n",
       "      <td>Gene</td>\n",
       "      <td>AT1G01040</td>\n",
       "    </tr>\n",
       "    <tr>\n",
       "      <th>16</th>\n",
       "      <td>AT1G01046</td>\n",
       "      <td>mirna</td>\n",
       "      <td>Arabidopsis thaliana</td>\n",
       "      <td>AT1G01046</td>\n",
       "      <td>MIR838A</td>\n",
       "      <td>ath-miR838|MIR838A|MIR838</td>\n",
       "      <td>microRNA838A</td>\n",
       "      <td>35.2_not assigned.unknown</td>\n",
       "      <td>NaN</td>\n",
       "      <td>not assigned</td>\n",
       "      <td>https://skm.nib.si/ckn/?identifier=AT1G01046</td>\n",
       "      <td>NIB</td>\n",
       "      <td>SKM</td>\n",
       "      <td>Gene</td>\n",
       "      <td>AT1G01046</td>\n",
       "    </tr>\n",
       "    <tr>\n",
       "      <th>17</th>\n",
       "      <td>AT1G01050</td>\n",
       "      <td>protein_coding</td>\n",
       "      <td>Arabidopsis thaliana</td>\n",
       "      <td>AT1G01050</td>\n",
       "      <td>PPA1</td>\n",
       "      <td>AtPPa1|PPa1|pyrophosphorylase 1</td>\n",
       "      <td>pyrophosphorylase 1</td>\n",
       "      <td>23.4.99_nucleotide metabolism.phosphotransfer ...</td>\n",
       "      <td>NaN</td>\n",
       "      <td>seed,root,leaf,stem,flower</td>\n",
       "      <td>https://skm.nib.si/ckn/?identifier=AT1G01050</td>\n",
       "      <td>NIB</td>\n",
       "      <td>SKM</td>\n",
       "      <td>Gene</td>\n",
       "      <td>AT1G01050</td>\n",
       "    </tr>\n",
       "    <tr>\n",
       "      <th>18</th>\n",
       "      <td>AT1G01060</td>\n",
       "      <td>protein_coding</td>\n",
       "      <td>Arabidopsis thaliana</td>\n",
       "      <td>AT1G01060</td>\n",
       "      <td>LHY</td>\n",
       "      <td>LATE ELONGATED HYPOCOTYL 1|LATE ELONGATED HYPO...</td>\n",
       "      <td>LATE ELONGATED HYPOCOTYL</td>\n",
       "      <td>27.3.26_RNA.regulation of transcription.MYB-re...</td>\n",
       "      <td>NaN</td>\n",
       "      <td>seed,root,leaf,stem,flower</td>\n",
       "      <td>https://skm.nib.si/ckn/?identifier=AT1G01060</td>\n",
       "      <td>NIB</td>\n",
       "      <td>SKM</td>\n",
       "      <td>Gene</td>\n",
       "      <td>AT1G01060</td>\n",
       "    </tr>\n",
       "  </tbody>\n",
       "</table>\n",
       "</div>"
      ],
      "text/plain": [
       "      node_ID       node_type               species       TAIR short_name  \\\n",
       "12  AT1G01010  protein_coding  Arabidopsis thaliana  AT1G01010     NAC001   \n",
       "15  AT1G01040  protein_coding  Arabidopsis thaliana  AT1G01040       DCL1   \n",
       "16  AT1G01046           mirna  Arabidopsis thaliana  AT1G01046    MIR838A   \n",
       "17  AT1G01050  protein_coding  Arabidopsis thaliana  AT1G01050       PPA1   \n",
       "18  AT1G01060  protein_coding  Arabidopsis thaliana  AT1G01060        LHY   \n",
       "\n",
       "                                             synonyms  \\\n",
       "12  NTL10|NAC domain containing protein 1|ANAC001|...   \n",
       "15  SIN1|SUS1|EMBRYO DEFECTIVE 60|ASU1|EMBRYO DEFE...   \n",
       "16                          ath-miR838|MIR838A|MIR838   \n",
       "17                    AtPPa1|PPa1|pyrophosphorylase 1   \n",
       "18  LATE ELONGATED HYPOCOTYL 1|LATE ELONGATED HYPO...   \n",
       "\n",
       "                          full_name  \\\n",
       "12  NAC domain containing protein 1   \n",
       "15                     dicer-like 1   \n",
       "16                     microRNA838A   \n",
       "17              pyrophosphorylase 1   \n",
       "18         LATE ELONGATED HYPOCOTYL   \n",
       "\n",
       "                                                  GMM note  \\\n",
       "12  27.3.27_RNA.regulation of transcription.NAC do...  NaN   \n",
       "15           27.1.20_RNA.processing.degradation dicer  NaN   \n",
       "16                          35.2_not assigned.unknown  NaN   \n",
       "17  23.4.99_nucleotide metabolism.phosphotransfer ...  NaN   \n",
       "18  27.3.26_RNA.regulation of transcription.MYB-re...  NaN   \n",
       "\n",
       "                        tissue                                           url  \\\n",
       "12       leaf,stem,root,flower  https://skm.nib.si/ckn/?identifier=AT1G01010   \n",
       "15  seed,root,leaf,stem,flower  https://skm.nib.si/ckn/?identifier=AT1G01040   \n",
       "16                not assigned  https://skm.nib.si/ckn/?identifier=AT1G01046   \n",
       "17  seed,root,leaf,stem,flower  https://skm.nib.si/ckn/?identifier=AT1G01050   \n",
       "18  seed,root,leaf,stem,flower  https://skm.nib.si/ckn/?identifier=AT1G01060   \n",
       "\n",
       "   node databaseName entryType       name  \n",
       "12  NIB          SKM      Gene  AT1G01010  \n",
       "15  NIB          SKM      Gene  AT1G01040  \n",
       "16  NIB          SKM      Gene  AT1G01046  \n",
       "17  NIB          SKM      Gene  AT1G01050  \n",
       "18  NIB          SKM      Gene  AT1G01060  "
      ]
     },
     "execution_count": 9,
     "metadata": {},
     "output_type": "execute_result"
    }
   ],
   "source": [
    "df_annots.loc[:, \"url\"] = df_annots[\"TAIR\"].apply(lambda x: f\"https://skm.nib.si/ckn/?identifier={x}\")\n",
    "df_annots.loc[:, \"species\"] = [[\"Arabidopsis thaliana\"]]*df_annots.shape[0]\n",
    "df_annots.loc[:, \"node\"] = \"NIB\"\n",
    "df_annots.loc[:, \"databaseName\"] = \"SKM\"\n",
    "df_annots.loc[:, \"entryType\"] = \"Gene\"\n",
    "df_annots.loc[:, \"name\"] = df_annots[\"TAIR\"]\n",
    "df_annots.head()"
   ]
  },
  {
   "cell_type": "markdown",
   "id": "90c70b1f",
   "metadata": {},
   "source": [
    "## The GMM (GoMapMan) ontology annotations"
   ]
  },
  {
   "cell_type": "code",
   "execution_count": 10,
   "id": "a32b43d1",
   "metadata": {},
   "outputs": [],
   "source": [
    "# Add GMM annotations\n",
    "def get_gmm_annots(x):\n",
    "    if not pd.isnull(x):\n",
    "        annots = []\n",
    "        for n in x.split(\"|\"):\n",
    "            annots.append(f'GMM:{n.split(\"_\")[0]}')\n",
    "        return annots\n",
    "df_annots.loc[:, \"annotationId\"] = df_annots[\"GMM\"].apply(get_gmm_annots)\n",
    "\n",
    "def get_gmm_defs(x):\n",
    "    if not pd.isnull(x):\n",
    "        names = []\n",
    "        for n in x.split(\"|\"):\n",
    "            annot, name = n.split(\"_\")\n",
    "            names.append(f\"{name} (GMM:{annot})\")\n",
    "        return names\n",
    "df_annots.loc[:, \"annotationName\"] = df_annots[\"GMM\"].apply(get_gmm_defs)"
   ]
  },
  {
   "cell_type": "markdown",
   "id": "03ca2574",
   "metadata": {},
   "source": [
    "## The description... \n",
    "\n",
    "We addd to the description (if avalible) the short name, the gene description, \n",
    "node type, and synonyms. \n",
    "\n",
    "More complicated, we add the interacting nodes to the descrition as well, including \n",
    "the type of interaction. \n"
   ]
  },
  {
   "cell_type": "markdown",
   "id": "c90626b4",
   "metadata": {},
   "source": [
    "CKN has edge \"type\" attribute defining the type of molecular interaction\n",
    "\n",
    "Below, we create a dictionary to help provide descriptive strings for each \n",
    "interaction type, and for whether it is upstream or downstream of the node \n",
    "under consideration."
   ]
  },
  {
   "cell_type": "code",
   "execution_count": 11,
   "id": "6f2f3a83",
   "metadata": {},
   "outputs": [],
   "source": [
    "strings = {\n",
    "    \"downstream\": {\n",
    "        \"binding\": \"has protein-protein binding with\", \n",
    "        \"transcription factor regulation\": \"transcriptionally regulates\",\n",
    "        \"post-translational modification\": \"post-translationally modifies\",\n",
    "        \"small RNA interactions\": \"regulates as a small RNA with\",\n",
    "        \"other\": \"has other molecular interaction with\"  \n",
    "    },\n",
    "    \"upstream\": {\n",
    "        \"transcription factor regulation\": \"is transcriptionally regulated by\",\n",
    "        \"post-translational modification\": \"is post-translationally modified by\",\n",
    "        \"small RNA interactions\": \"is regulated by small RNA \",\n",
    "        \"other\": \"has other molecular interaction with\"  \n",
    "    }  \n",
    "}"
   ]
  },
  {
   "cell_type": "code",
   "execution_count": 12,
   "id": "36fb923f",
   "metadata": {},
   "outputs": [],
   "source": [
    "def generate_interactions_description(node):\n",
    "    ''' Fetch upstream and downstream interactions for the node, and \n",
    "    generate descriptive phrases for each type of interaction.\n",
    "    '''\n",
    "    \n",
    "    s_interactions = []\n",
    "\n",
    "    downstream_edges = []\n",
    "    for n in g.successors(node):\n",
    "        e =  g.edges[(node, n)]\n",
    "        e[\"target\"] = n\n",
    "        downstream_edges.append(e)\n",
    "    df_downstream = pd.DataFrame(downstream_edges)\n",
    "    if df_downstream.shape[0] > 0:\n",
    "        df_downstream = df_downstream.groupby(\"type\").agg({\n",
    "            \"target\": \", \".join\n",
    "        })  \n",
    "        for interaction_type, r in df_downstream.iterrows():\n",
    "            s_interactions.append(f'{strings[\"downstream\"][interaction_type]} {r[\"target\"]}')\n",
    "\n",
    "    upstream_edges = []\n",
    "    for n in g.predecessors(node):\n",
    "        e =  g.edges[(n, node)]\n",
    "        e[\"source\"] = n\n",
    "        upstream_edges.append(e)\n",
    "    df_upstream = pd.DataFrame(upstream_edges)\n",
    "    if df_upstream.shape[0] > 0:   \n",
    "        df_upstream = df_upstream.groupby(\"type\").agg({\n",
    "            \"source\": \", \".join\n",
    "        })\n",
    "        # binding is undirected, only use the downstream one\n",
    "        df_upstream = df_upstream[df_upstream.index != \"binding\"]\n",
    "        for interaction_type, r in df_upstream.iterrows():\n",
    "            s_interactions.append(f'{strings[\"upstream\"][interaction_type]} {r[\"source\"]}')\n",
    "\n",
    "    s = f'It {\" and \".join(s_interactions)}. '\n",
    "    return s"
   ]
  },
  {
   "cell_type": "code",
   "execution_count": 13,
   "id": "bb4d5733",
   "metadata": {},
   "outputs": [],
   "source": [
    "def generate_description(x):\n",
    "    s = f'{x[\"TAIR\"]}'\n",
    "    if not (x[\"TAIR\"] == x[\"short_name\"]):\n",
    "        s += f' ({x[\"short_name\"]})'\n",
    "    if not pd.isnull(x[\"node_type\"]):\n",
    "        s += f' is a {x[\"node_type\"]} gene'\n",
    "    if not pd.isnull(x[\"full_name\"]):\n",
    "        s += f\"\"\" and has description '{x[\"full_name\"]}'\"\"\"\n",
    "    s += \". \"\n",
    "    if not pd.isnull(x[\"synonyms\"]):\n",
    "        s += f' Synonyms are: {\", \".join(x[\"synonyms\"].split(\"|\"))}. '\n",
    "    s += generate_interactions_description(x[\"node_ID\"])\n",
    "    return s"
   ]
  },
  {
   "cell_type": "code",
   "execution_count": 14,
   "id": "1c86d9c9",
   "metadata": {},
   "outputs": [],
   "source": [
    "# This takes a little while...\n",
    "df_annots[\"description\"] = df_annots.apply(generate_description, axis=1)"
   ]
  },
  {
   "cell_type": "code",
   "execution_count": 15,
   "id": "5441a4d7",
   "metadata": {
    "scrolled": false
   },
   "outputs": [],
   "source": [
    "records = df_annots[['name', 'species', 'url', 'node', 'databaseName',\n",
    "       'entryType', 'annotationId', 'annotationName', 'description']].to_dict(orient=\"records\")\n",
    "\n",
    "with open(\"skm-ckn-faidare.json\", \"w\") as handle:\n",
    "    json.dump(records, handle, indent=4)"
   ]
  },
  {
   "cell_type": "markdown",
   "id": "393b86b0",
   "metadata": {},
   "source": [
    "# END"
   ]
  },
  {
   "cell_type": "code",
   "execution_count": null,
   "id": "4eb23ae1",
   "metadata": {},
   "outputs": [],
   "source": []
  }
 ],
 "metadata": {
  "kernelspec": {
   "display_name": "Python 3 (ipykernel)",
   "language": "python",
   "name": "python3"
  },
  "language_info": {
   "codemirror_mode": {
    "name": "ipython",
    "version": 3
   },
   "file_extension": ".py",
   "mimetype": "text/x-python",
   "name": "python",
   "nbconvert_exporter": "python",
   "pygments_lexer": "ipython3",
   "version": "3.8.12"
  },
  "toc": {
   "base_numbering": 1,
   "nav_menu": {},
   "number_sections": true,
   "sideBar": true,
   "skip_h1_title": false,
   "title_cell": "Table of Contents",
   "title_sidebar": "Contents",
   "toc_cell": true,
   "toc_position": {
    "height": "calc(100% - 180px)",
    "left": "10px",
    "top": "150px",
    "width": "186px"
   },
   "toc_section_display": true,
   "toc_window_display": true
  }
 },
 "nbformat": 4,
 "nbformat_minor": 5
}
