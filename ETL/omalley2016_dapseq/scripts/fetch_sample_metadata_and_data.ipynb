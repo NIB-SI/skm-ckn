{
 "cells": [
  {
   "cell_type": "code",
   "execution_count": 1,
   "id": "4026310b-c7de-4a94-869f-222fe9b92846",
   "metadata": {},
   "outputs": [],
   "source": [
    "import pandas as pd\n",
    "import numpy as np\n",
    "import json, time, xmltodict, os, urllib\n",
    "from pathlib import Path"
   ]
  },
  {
   "cell_type": "code",
   "execution_count": 2,
   "id": "7d30d444-5485-4aac-a23f-78bfba759666",
   "metadata": {},
   "outputs": [],
   "source": [
    "# task specific imports\n",
    "from Bio import Entrez"
   ]
  },
  {
   "cell_type": "code",
   "execution_count": 3,
   "id": "ba08e3c0-9cb4-41c9-ae38-45cd8be62d2d",
   "metadata": {},
   "outputs": [],
   "source": [
    "base_dir = Path(\"../\")\n",
    "parsed_data_dir = base_dir / \"parsed_data\"\n",
    "raw_data_dir = base_dir / \"raw_data\""
   ]
  },
  {
   "cell_type": "code",
   "execution_count": 4,
   "id": "336c47d9-ca5b-44b2-8c28-618049373540",
   "metadata": {},
   "outputs": [],
   "source": [
    "Entrez.email = \"-\"    "
   ]
  },
  {
   "cell_type": "markdown",
   "id": "308e5c17-9c87-4c28-976d-cb5cdcf10735",
   "metadata": {},
   "source": [
    "## Series level metadata"
   ]
  },
  {
   "cell_type": "code",
   "execution_count": 7,
   "id": "5df84725-d30a-4d5e-b8fb-6cc01d77352a",
   "metadata": {},
   "outputs": [],
   "source": [
    "SERIES_ACCESSION = \"GSE60141\""
   ]
  },
  {
   "cell_type": "code",
   "execution_count": 9,
   "id": "93ef43f8-9590-42db-9454-8832eac2e8ac",
   "metadata": {},
   "outputs": [
    {
     "name": "stdout",
     "output_type": "stream",
     "text": [
      "GSE60141 200060141\n",
      "936\n"
     ]
    }
   ],
   "source": [
    "samples = []\n",
    "series_data = {}\n",
    "\n",
    "handle = Entrez.esearch(db=\"gds\", term=f\"{SERIES_ACCESSION}[Accession] AND gse[Filter]\", field=\"acc\", retmax=1)\n",
    "series_result = Entrez.read(handle)\n",
    "series_uid = series_result[\"IdList\"][0]\n",
    "print(SERIES_ACCESSION, series_uid)\n",
    "\n",
    "series_data[\"esearch\"] = series_result\n",
    "\n",
    "# Get samples from the series\n",
    "handle = Entrez.esummary(db=\"gds\", id=series_uid, retmax=1000)\n",
    "series_result = Entrez.read(handle)\n",
    "series_samples = series_result[0]['Samples']\n",
    "samples += series_samples\n",
    "print(len(series_samples))\n",
    "\n",
    "series_data[\"esummary\"] = series_result"
   ]
  },
  {
   "cell_type": "code",
   "execution_count": 10,
   "id": "0006605f-815a-449a-a670-91b336e7dd3e",
   "metadata": {},
   "outputs": [],
   "source": [
    "all_sample_details = {}\n",
    "all_gsm_details = {}"
   ]
  },
  {
   "cell_type": "markdown",
   "id": "b86be083-dde5-4fce-88e8-1f87def5ec24",
   "metadata": {},
   "source": [
    "## Sample level metadata\n",
    "### Attempt to load previously collected data"
   ]
  },
  {
   "cell_type": "code",
   "execution_count": 15,
   "id": "ca5a5507-294c-4fc2-928d-314d051913d5",
   "metadata": {},
   "outputs": [
    {
     "name": "stdout",
     "output_type": "stream",
     "text": [
      "942\n"
     ]
    }
   ],
   "source": [
    "if (raw_data_dir / \"sample_metadata_dump.json\").exists():\n",
    "    with open(raw_data_dir / \"sample_metadata_dump.json\", \"r\") as f: all_sample_details = json.load(f)\n",
    "else:\n",
    "    all_sample_details = {}\n",
    "print(len(all_sample_details))"
   ]
  },
  {
   "cell_type": "code",
   "execution_count": 14,
   "id": "3f2cf31a-8533-4470-b378-084c8c2b0e80",
   "metadata": {},
   "outputs": [
    {
     "name": "stdout",
     "output_type": "stream",
     "text": [
      "942\n"
     ]
    }
   ],
   "source": [
    "if (raw_data_dir / \"gsm_metadata_dump.json\").exists():\n",
    "    with open(raw_data_dir / \"gsm_metadata_dump.json\", \"r\") as f: all_gsm_details = json.load(f)  \n",
    "else:\n",
    "    all_gsm_details = {}\n",
    "print(len(all_gsm_details))    "
   ]
  },
  {
   "cell_type": "markdown",
   "id": "0b0e3423-9a07-48af-a470-cfc526d1db86",
   "metadata": {},
   "source": [
    "### Fetch anything missing"
   ]
  },
  {
   "cell_type": "code",
   "execution_count": 17,
   "id": "9d4088bf-d041-4b98-9c09-03e373e53aa4",
   "metadata": {},
   "outputs": [],
   "source": [
    "failed_samples = []\n",
    "for s in samples:\n",
    "    if not (s[\"Accession\"] in all_gsm_details):\n",
    "        try:\n",
    "            # GEO dataset\n",
    "            # Get GSM UID\n",
    "            handle = Entrez.esearch(db=\"gds\", term=f\"{s['Accession']}[Accession] AND gsm[Filter]\", field=\"acc\", retmax=1)\n",
    "            sample = Entrez.read(handle)\n",
    "            sample_uid = sample[\"IdList\"][0]\n",
    "            # Get sample details\n",
    "            handle = Entrez.esummary(db=\"gds\", id=sample_uid, retmax=100)\n",
    "            sample_details = Entrez.read(handle)[0]\n",
    "            all_gsm_details[s[\"Accession\"]] = sample_details\n",
    "            time.sleep(1)\n",
    "        except:\n",
    "            print(s)\n",
    "            failed_samples.append(s)\n",
    "    if not (s[\"Accession\"] in all_sample_details):\n",
    "        try:\n",
    "            # BioSample\n",
    "            # Get sample UID        \n",
    "            handle = Entrez.esearch(db=\"biosample\", term=f\"{s['Accession']}[Accession]\", field=\"acc\", retmax=1)\n",
    "            sample = Entrez.read(handle)\n",
    "            sample_uid = sample[\"IdList\"][0]\n",
    "    \n",
    "            # Get sample details\n",
    "            handle = Entrez.esummary(db=\"biosample\", id=sample_uid, retmax=100)\n",
    "            sample_details = Entrez.read(handle)\n",
    "            \n",
    "            all_sample_details[s[\"Accession\"]] = sample_details\n",
    "    \n",
    "        except:\n",
    "            print(s)\n",
    "            failed_samples.append(s)\n"
   ]
  },
  {
   "cell_type": "code",
   "execution_count": 18,
   "id": "a636da17-8297-4d68-a303-7988a7110027",
   "metadata": {},
   "outputs": [],
   "source": [
    "with open(raw_data_dir / \"sample_metadata_dump.json\", \"w\") as f: json.dump(all_sample_details, f)\n",
    "with open(raw_data_dir / \"gsm_metadata_dump.json\", \"w\") as f: json.dump(all_gsm_details, f)"
   ]
  },
  {
   "cell_type": "code",
   "execution_count": 19,
   "id": "c7d527c8-4d97-4b76-8346-daaeb65be89a",
   "metadata": {},
   "outputs": [
    {
     "data": {
      "text/plain": [
       "[]"
      ]
     },
     "execution_count": 19,
     "metadata": {},
     "output_type": "execute_result"
    }
   ],
   "source": [
    "failed_samples"
   ]
  },
  {
   "cell_type": "markdown",
   "id": "0ca5c534-6cf7-498c-a603-725d5014cecc",
   "metadata": {},
   "source": [
    "## Prepare metadata table"
   ]
  },
  {
   "cell_type": "code",
   "execution_count": 20,
   "id": "10aea39d-1695-48dd-a200-61197f8628be",
   "metadata": {},
   "outputs": [],
   "source": [
    "keep_sample_details = {}\n",
    "\n",
    "keep_attributes = [\n",
    "    \"gene id\", \n",
    "    \"protein affinity tag\", \n",
    "    \"expression system\", \n",
    "    \"dna source\", \n",
    "    \"protein\", \n",
    "    \"protein family\", \n",
    "    \"replicate\", \n",
    "    \"subset\"\n",
    "]\n",
    "\n",
    "for acc, sample_details in all_sample_details.items():\n",
    "    document_summary = sample_details['DocumentSummarySet']['DocumentSummary'][0]\n",
    "    sample_data = xmltodict.parse(document_summary['SampleData'])\n",
    "    attributes = sample_data['BioSample']['Attributes']['Attribute']\n",
    "    for d in attributes:\n",
    "        if d['@attribute_name'] in keep_attributes:\n",
    "            all_gsm_details[acc][d['@attribute_name']] = d['#text']    \n"
   ]
  },
  {
   "cell_type": "code",
   "execution_count": 21,
   "id": "1a594b92-295d-4afb-b30e-50e0f9e47864",
   "metadata": {},
   "outputs": [
    {
     "data": {
      "text/plain": [
       "942"
      ]
     },
     "execution_count": 21,
     "metadata": {},
     "output_type": "execute_result"
    }
   ],
   "source": [
    "len(all_gsm_details)"
   ]
  },
  {
   "cell_type": "code",
   "execution_count": 22,
   "id": "62c3dd63-6c4c-4402-b40b-f02fb2b8e6e7",
   "metadata": {},
   "outputs": [
    {
     "name": "stdout",
     "output_type": "stream",
     "text": [
      "(942, 11)\n"
     ]
    },
    {
     "data": {
      "text/html": [
       "<div>\n",
       "<style scoped>\n",
       "    .dataframe tbody tr th:only-of-type {\n",
       "        vertical-align: middle;\n",
       "    }\n",
       "\n",
       "    .dataframe tbody tr th {\n",
       "        vertical-align: top;\n",
       "    }\n",
       "\n",
       "    .dataframe thead th {\n",
       "        text-align: right;\n",
       "    }\n",
       "</style>\n",
       "<table border=\"1\" class=\"dataframe\">\n",
       "  <thead>\n",
       "    <tr style=\"text-align: right;\">\n",
       "      <th></th>\n",
       "      <th>title</th>\n",
       "      <th>summary</th>\n",
       "      <th>gene id</th>\n",
       "      <th>taxon</th>\n",
       "      <th>protein</th>\n",
       "      <th>protein family</th>\n",
       "      <th>protein affinity tag</th>\n",
       "      <th>expression system</th>\n",
       "      <th>dna source</th>\n",
       "      <th>replicate</th>\n",
       "      <th>subset</th>\n",
       "    </tr>\n",
       "    <tr>\n",
       "      <th>accession</th>\n",
       "      <th></th>\n",
       "      <th></th>\n",
       "      <th></th>\n",
       "      <th></th>\n",
       "      <th></th>\n",
       "      <th></th>\n",
       "      <th></th>\n",
       "      <th></th>\n",
       "      <th></th>\n",
       "      <th></th>\n",
       "      <th></th>\n",
       "    </tr>\n",
       "  </thead>\n",
       "  <tbody>\n",
       "    <tr>\n",
       "      <th>GSM1466346</th>\n",
       "      <td>ChIPSeq-ABI5_mock_2</td>\n",
       "      <td>ChIPSeq-ABI5_mock</td>\n",
       "      <td>NaN</td>\n",
       "      <td>Arabidopsis thaliana</td>\n",
       "      <td>NaN</td>\n",
       "      <td>NaN</td>\n",
       "      <td>NaN</td>\n",
       "      <td>NaN</td>\n",
       "      <td>NaN</td>\n",
       "      <td>NaN</td>\n",
       "      <td>NaN</td>\n",
       "    </tr>\n",
       "    <tr>\n",
       "      <th>GSM1466343</th>\n",
       "      <td>ChIPSeq-ABI5_Ypet_1</td>\n",
       "      <td>ChIPSeq-ABI5_Ypet</td>\n",
       "      <td>NaN</td>\n",
       "      <td>Arabidopsis thaliana</td>\n",
       "      <td>NaN</td>\n",
       "      <td>NaN</td>\n",
       "      <td>NaN</td>\n",
       "      <td>NaN</td>\n",
       "      <td>NaN</td>\n",
       "      <td>NaN</td>\n",
       "      <td>NaN</td>\n",
       "    </tr>\n",
       "    <tr>\n",
       "      <th>GSM1466345</th>\n",
       "      <td>ChIPSeq-ABI5_Ypet_2</td>\n",
       "      <td>ChIPSeq-ABI5_Ypet</td>\n",
       "      <td>NaN</td>\n",
       "      <td>Arabidopsis thaliana</td>\n",
       "      <td>NaN</td>\n",
       "      <td>NaN</td>\n",
       "      <td>NaN</td>\n",
       "      <td>NaN</td>\n",
       "      <td>NaN</td>\n",
       "      <td>NaN</td>\n",
       "      <td>NaN</td>\n",
       "    </tr>\n",
       "  </tbody>\n",
       "</table>\n",
       "</div>"
      ],
      "text/plain": [
       "                          title            summary gene id  \\\n",
       "accession                                                    \n",
       "GSM1466346  ChIPSeq-ABI5_mock_2  ChIPSeq-ABI5_mock     NaN   \n",
       "GSM1466343  ChIPSeq-ABI5_Ypet_1  ChIPSeq-ABI5_Ypet     NaN   \n",
       "GSM1466345  ChIPSeq-ABI5_Ypet_2  ChIPSeq-ABI5_Ypet     NaN   \n",
       "\n",
       "                           taxon protein protein family protein affinity tag  \\\n",
       "accession                                                                      \n",
       "GSM1466346  Arabidopsis thaliana     NaN            NaN                  NaN   \n",
       "GSM1466343  Arabidopsis thaliana     NaN            NaN                  NaN   \n",
       "GSM1466345  Arabidopsis thaliana     NaN            NaN                  NaN   \n",
       "\n",
       "           expression system dna source replicate subset  \n",
       "accession                                                 \n",
       "GSM1466346               NaN        NaN       NaN    NaN  \n",
       "GSM1466343               NaN        NaN       NaN    NaN  \n",
       "GSM1466345               NaN        NaN       NaN    NaN  "
      ]
     },
     "execution_count": 22,
     "metadata": {},
     "output_type": "execute_result"
    }
   ],
   "source": [
    "df = pd.DataFrame.from_dict(all_gsm_details, orient=\"index\")\n",
    "df.index.name = \"accession\"\n",
    "df = df[['title', 'summary', 'gene id', 'taxon', 'protein', 'protein family', 'protein affinity tag', 'expression system', 'dna source', 'replicate', 'subset']]\n",
    "df.replace(\"\", pd.NA, inplace=True)\n",
    "print(df.shape)\n",
    "df.head(3)"
   ]
  },
  {
   "cell_type": "markdown",
   "id": "9107ca9f-3152-407e-845c-c8befdf335b4",
   "metadata": {},
   "source": [
    "## Filter table to samples with applicable DAPseq data"
   ]
  },
  {
   "cell_type": "code",
   "execution_count": 23,
   "id": "0174ee3b-e4d8-434a-9f47-9006aceaa0ac",
   "metadata": {},
   "outputs": [],
   "source": [
    "df = df[df[\"taxon\"] == \"Arabidopsis thaliana\"]\n",
    "df = df[df[\"subset\"]==\"motif+TFBS\"]"
   ]
  },
  {
   "cell_type": "code",
   "execution_count": 24,
   "id": "c204e520-9c9e-4116-8a08-8f72cee493b4",
   "metadata": {},
   "outputs": [
    {
     "data": {
      "text/plain": [
       "gene id    dna source\n",
       "AT1G01060  col           1\n",
       "           colamp        1\n",
       "AT1G01250  col           1\n",
       "AT1G01720  col           1\n",
       "AT1G02230  col           1\n",
       "                        ..\n",
       "AT5G66940  colamp        1\n",
       "AT5G67190  col           1\n",
       "           colamp        1\n",
       "AT5G67300  col           2\n",
       "AT5G67580  col           1\n",
       "Length: 568, dtype: int64"
      ]
     },
     "execution_count": 24,
     "metadata": {},
     "output_type": "execute_result"
    }
   ],
   "source": [
    "df.groupby([\"gene id\", \"dna source\"]).size()"
   ]
  },
  {
   "cell_type": "code",
   "execution_count": 25,
   "id": "908486fb-db8c-4322-82c2-af849a4a94f4",
   "metadata": {},
   "outputs": [
    {
     "data": {
      "text/plain": [
       "replicate\n",
       "a      503\n",
       "b       38\n",
       "v3a     35\n",
       "v3b     26\n",
       "v31     15\n",
       "v3d      1\n",
       "v3h      1\n",
       "v35      1\n",
       "v3e      1\n",
       "Name: count, dtype: int64"
      ]
     },
     "execution_count": 25,
     "metadata": {},
     "output_type": "execute_result"
    }
   ],
   "source": [
    "df[\"replicate\"].value_counts()"
   ]
  },
  {
   "cell_type": "markdown",
   "id": "35c4ec2d-413c-4245-8547-f6fffc3ba66c",
   "metadata": {},
   "source": [
    "Some samples (replicates) are merged, need to identify the \"common\" study title, and thus the common file. "
   ]
  },
  {
   "cell_type": "code",
   "execution_count": 26,
   "id": "7a075625-1672-427a-b45f-439f2129a52e",
   "metadata": {
    "scrolled": true
   },
   "outputs": [],
   "source": [
    "def get_common(x):\n",
    "    # x = list(x)\n",
    "    if len(x) == 1:\n",
    "        return x.iloc[0]\n",
    "    elif x.iloc[0] == x.iloc[1]:\n",
    "        return x.iloc[0]\n",
    "    else:\n",
    "        print(f\"{x.index.values}\\t{x.iloc[0]}\\t{x.iloc[1]}\")\n",
    "        return None\n",
    "\n",
    "agg = {\n",
    "    c: get_common for c in ['summary', 'taxon', 'protein', 'protein family', 'protein affinity tag', 'expression system']\n",
    "}\n",
    "\n",
    "agg['replicate'] = ','.join\n",
    "agg['title'] = list\n",
    "agg['accession'] = list\n",
    "# agg['replicate'] = list\n",
    "\n",
    "\n",
    "df = df.reset_index().groupby([\"gene id\", \"dna source\"]).agg(agg)"
   ]
  },
  {
   "cell_type": "code",
   "execution_count": 27,
   "id": "f0d63661-e13e-4907-aa24-883e9d1760dd",
   "metadata": {},
   "outputs": [],
   "source": [
    "df['common title'] = df['title'].apply(lambda x: os.path.commonprefix(list(x)).rstrip(\"v3\").rstrip(\"_\"))"
   ]
  },
  {
   "cell_type": "code",
   "execution_count": 28,
   "id": "8f4c857c-4108-4739-a5b8-1998154b3048",
   "metadata": {},
   "outputs": [
    {
     "data": {
      "text/plain": [
       "(568, 10)"
      ]
     },
     "execution_count": 28,
     "metadata": {},
     "output_type": "execute_result"
    }
   ],
   "source": [
    "df.shape"
   ]
  },
  {
   "cell_type": "code",
   "execution_count": 29,
   "id": "7935e5e5-4c22-4d2e-9b74-9c7178989af8",
   "metadata": {},
   "outputs": [
    {
     "data": {
      "text/plain": [
       "protein affinity tag\n",
       "Halo    566\n",
       "GST       2\n",
       "Name: count, dtype: int64"
      ]
     },
     "execution_count": 29,
     "metadata": {},
     "output_type": "execute_result"
    }
   ],
   "source": [
    "df[\"protein affinity tag\"].value_counts()"
   ]
  },
  {
   "cell_type": "code",
   "execution_count": 30,
   "id": "60c6fa72-8301-4a3a-a454-59136f917e68",
   "metadata": {},
   "outputs": [
    {
     "data": {
      "text/plain": [
       "expression system\n",
       "tnt      566\n",
       "ecoli      2\n",
       "Name: count, dtype: int64"
      ]
     },
     "execution_count": 30,
     "metadata": {},
     "output_type": "execute_result"
    }
   ],
   "source": [
    "df[\"expression system\"].value_counts()"
   ]
  },
  {
   "cell_type": "markdown",
   "id": "eb94743d-753c-4f64-8508-ab493e270376",
   "metadata": {},
   "source": [
    "# Download files..."
   ]
  },
  {
   "cell_type": "code",
   "execution_count": 31,
   "id": "0fb3678a-8738-45f1-a512-746bb36113c9",
   "metadata": {},
   "outputs": [],
   "source": [
    "from ftplib import FTP\n",
    "from datetime import datetime\n",
    "import tarfile"
   ]
  },
  {
   "cell_type": "code",
   "execution_count": 33,
   "id": "3c2c777a-5bf8-4d67-9be0-9cd141a511d3",
   "metadata": {},
   "outputs": [
    {
     "data": {
      "text/plain": [
       "'ftp://ftp.ncbi.nlm.nih.gov/geo/series/GSE60nnn/GSE60141/'"
      ]
     },
     "execution_count": 33,
     "metadata": {},
     "output_type": "execute_result"
    }
   ],
   "source": [
    "ftp_link = series_data['esummary'][0]['FTPLink']; ftp_link"
   ]
  },
  {
   "cell_type": "code",
   "execution_count": 34,
   "id": "0819f34c-ec4a-4003-b657-4acb6b41442c",
   "metadata": {},
   "outputs": [
    {
     "data": {
      "text/plain": [
       "('ftp.ncbi.nlm.nih.gov', '/geo/series/GSE60nnn/GSE60141/')"
      ]
     },
     "execution_count": 34,
     "metadata": {},
     "output_type": "execute_result"
    }
   ],
   "source": [
    "url_parts = urllib.parse.urlparse(ftp_link)\n",
    "ftp_base = url_parts.netloc\n",
    "ftp_path = url_parts.path\n",
    "ftp_base, ftp_path"
   ]
  },
  {
   "cell_type": "code",
   "execution_count": 42,
   "id": "9fd7bcf4-0d4a-47e5-83d4-9faaa01e0cb6",
   "metadata": {},
   "outputs": [
    {
     "data": {
      "text/plain": [
       "'250 CWD command successful'"
      ]
     },
     "execution_count": 42,
     "metadata": {},
     "output_type": "execute_result"
    }
   ],
   "source": [
    "ftp = FTP(ftp_base)\n",
    "ftp.login('','')\n",
    "ftp.cwd(f'/{ftp_path}/suppl/')  "
   ]
  },
  {
   "cell_type": "code",
   "execution_count": 43,
   "id": "c35aaf11-d3f2-43d9-964e-0a950a3ba936",
   "metadata": {},
   "outputs": [
    {
     "name": "stdout",
     "output_type": "stream",
     "text": [
      "GSE60141_DAPSeq-AP2EREBP_tnt-At1g22810_col-chr1-5_GEM_events.narrowPeak.gz already downloaded.\n",
      "GSE60141_DAPSeq-AP2EREBP_tnt-At2g33710_col-chr1-5_GEM_events.narrowPeak.gz already downloaded.\n",
      "GSE60141_DAPSeq-AP2EREBP_tnt-At4g32800_col-chr1-5_GEM_events.narrowPeak.gz already downloaded.\n",
      "GSE60141_DAPSeq-AP2EREBP_tnt-ERF105_col-chr1-5_GEM_events.narrowPeak.gz already downloaded.\n",
      "GSE60141_DAPSeq-AP2EREBP_tnt-ERF15_col-chr1-5_GEM_events.narrowPeak.gz already downloaded.\n",
      "GSE60141_DAPSeq-AP2EREBP_tnt-ERF6_col-chr1-5_GEM_events.narrowPeak.gz already downloaded.\n",
      "GSE60141_DAPSeq-ARF_ecoli-MP_col-chr1-5_GEM_events.narrowPeak.gz already downloaded.\n",
      "GSE60141_DAPSeq-C2H2_tnt-At5g66730_col-chr1-5_GEM_events.narrowPeak.gz already downloaded.\n",
      "GSE60141_DAPSeq-C2H2_tnt-IDD5_col-chr1-5_GEM_events.narrowPeak.gz already downloaded.\n",
      "GSE60141_DAPSeq-C2H2_tnt-STZ_col-chr1-5_GEM_events.narrowPeak.gz already downloaded.\n",
      "GSE60141_DAPSeq-CPP_tnt-SOL1_col-chr1-5_GEM_events.narrowPeak.gz already downloaded.\n",
      "GSE60141_DAPSeq-G2like_tnt-At1g25550_col-chr1-5_GEM_events.narrowPeak.gz already downloaded.\n",
      "GSE60141_DAPSeq-G2like_tnt-At1g68670_col-chr1-5_GEM_events.narrowPeak.gz already downloaded.\n",
      "GSE60141_DAPSeq-G2like_tnt-At2g01060_col-chr1-5_GEM_events.narrowPeak.gz already downloaded.\n",
      "GSE60141_DAPSeq-HSF_tnt-HSFA6B_col-chr1-5_GEM_events.narrowPeak.gz already downloaded.\n",
      "GSE60141_DAPSeq-Homeobox_tnt-EDT1_col-chr1-5_GEM_events.narrowPeak.gz already downloaded.\n",
      "GSE60141_DAPSeq-Homeobox_tnt-PDF2_col-chr1-5_GEM_events.narrowPeak.gz already downloaded.\n",
      "GSE60141_DAPSeq-MYB_tnt-MYB44_col-chr1-5_GEM_events.narrowPeak.gz already downloaded.\n",
      "GSE60141_DAPSeq-MYB_tnt-MYB55_col-chr1-5_GEM_events.narrowPeak.gz already downloaded.\n",
      "GSE60141_DAPSeq-MYB_tnt-MYB60_col-chr1-5_GEM_events.narrowPeak.gz already downloaded.\n",
      "GSE60141_DAPSeq-MYB_tnt-MYB74_col-chr1-5_GEM_events.narrowPeak.gz already downloaded.\n",
      "GSE60141_DAPSeq-MYBrelated_tnt-EPR1_col-chr1-5_GEM_events.narrowPeak.gz already downloaded.\n",
      "GSE60141_DAPSeq-MYBrelated_tnt-LCL1_col-chr1-5_GEM_events.narrowPeak.gz already downloaded.\n",
      "GSE60141_DAPSeq-MYBrelated_tnt-TRP1_col-chr1-5_GEM_events.narrowPeak.gz already downloaded.\n",
      "GSE60141_DAPSeq-NAC_tnt-ANAC017_col-chr1-5_GEM_events.narrowPeak.gz already downloaded.\n",
      "GSE60141_DAPSeq-NAC_tnt-ANAC034_col-chr1-5_GEM_events.narrowPeak.gz already downloaded.\n",
      "GSE60141_DAPSeq-NAC_tnt-ANAC046_col-chr1-5_GEM_events.narrowPeak.gz already downloaded.\n",
      "GSE60141_DAPSeq-NAC_tnt-ANAC047_col-chr1-5_GEM_events.narrowPeak.gz already downloaded.\n",
      "GSE60141_DAPSeq-NAC_tnt-ANAC053_col-chr1-5_GEM_events.narrowPeak.gz already downloaded.\n",
      "GSE60141_DAPSeq-NAC_tnt-ANAC055_col-chr1-5_GEM_events.narrowPeak.gz already downloaded.\n",
      "GSE60141_DAPSeq-NAC_tnt-ANAC062_col-chr1-5_GEM_events.narrowPeak.gz already downloaded.\n",
      "GSE60141_DAPSeq-NAC_tnt-ANAC070_col-chr1-5_GEM_events.narrowPeak.gz already downloaded.\n",
      "GSE60141_DAPSeq-NAC_tnt-ANAC079_col-chr1-5_GEM_events.narrowPeak.gz already downloaded.\n",
      "GSE60141_DAPSeq-NAC_tnt-ANAC096_col-chr1-5_GEM_events.narrowPeak.gz already downloaded.\n",
      "GSE60141_DAPSeq-NAC_tnt-CUC2_col-chr1-5_GEM_events.narrowPeak.gz already downloaded.\n",
      "GSE60141_DAPSeq-NAC_tnt-NTL8_col-chr1-5_GEM_events.narrowPeak.gz already downloaded.\n",
      "GSE60141_DAPSeq-NAC_tnt-VND3_col-chr1-5_GEM_events.narrowPeak.gz already downloaded.\n",
      "GSE60141_DAPSeq-NAC_tnt-VND4_col-chr1-5_GEM_events.narrowPeak.gz already downloaded.\n",
      "GSE60141_DAPSeq-RAV_tnt-RAV1_col-chr1-5_GEM_events.narrowPeak.gz already downloaded.\n",
      "GSE60141_DAPSeq-TCP_tnt-At1g72010_col-chr1-5_GEM_events.narrowPeak.gz already downloaded.\n",
      "GSE60141_DAPSeq-TCP_tnt-TCP24_col-chr1-5_GEM_events.narrowPeak.gz already downloaded.\n",
      "GSE60141_DAPSeq-TCP_tnt-TCP3_col-chr1-5_GEM_events.narrowPeak.gz already downloaded.\n",
      "GSE60141_DAPSeq-Trihelix_tnt-At3g14180_col-chr1-5_GEM_events.narrowPeak.gz already downloaded.\n",
      "GSE60141_DAPSeq-WRKY_tnt-WRKY21_col-chr1-5_GEM_events.narrowPeak.gz already downloaded.\n",
      "GSE60141_DAPSeq-WRKY_tnt-WRKY22_col-chr1-5_GEM_events.narrowPeak.gz already downloaded.\n",
      "GSE60141_DAPSeq-WRKY_tnt-WRKY40_col-chr1-5_GEM_events.narrowPeak.gz already downloaded.\n",
      "GSE60141_DAPSeq-WRKY_tnt-WRKY70_col-chr1-5_GEM_events.narrowPeak.gz already downloaded.\n",
      "GSE60141_DAPSeq-WRKY_tnt-WRKY7_col-chr1-5_GEM_events.narrowPeak.gz already downloaded.\n",
      "GSE60141_DAPSeq-WRKY_tnt-WRKY8_col-chr1-5_GEM_events.narrowPeak.gz already downloaded.\n",
      "GSE60141_DAPSeq-bHLH_tnt-BIM2_colamp-chr1-5_GEM_events.narrowPeak.gz already downloaded.\n",
      "GSE60141_DAPSeq-bHLH_tnt-bHLH31_col-chr1-5_GEM_events.narrowPeak.gz already downloaded.\n",
      "GSE60141_DAPSeq-bHLH_tnt-bHLH34_col-chr1-5_GEM_events.narrowPeak.gz already downloaded.\n",
      "GSE60141_DAPSeq-bZIP_tnt-GBF3_col-chr1-5_GEM_events.narrowPeak.gz already downloaded.\n",
      "GSE60141_DAPSeq-bZIP_tnt-GBF3_colamp-chr1-5_GEM_events.narrowPeak.gz already downloaded.\n",
      "GSE60141_DAPSeq-bZIP_tnt-GBF6_col-chr1-5_GEM_events.narrowPeak.gz already downloaded.\n",
      "GSE60141_DAPSeq-bZIP_tnt-TGA1_col-chr1-5_GEM_events.narrowPeak.gz already downloaded.\n",
      "GSE60141_DAPSeq-bZIP_tnt-TGA2_col-chr1-5_GEM_events.narrowPeak.gz already downloaded.\n",
      "GSE60141_DAPSeq-bZIP_tnt-TGA3_col-chr1-5_GEM_events.narrowPeak.gz already downloaded.\n",
      "GSE60141_DAPSeq-bZIP_tnt-bZIP44_col-chr1-5_GEM_events.narrowPeak.gz already downloaded.\n",
      "GSE60141_DAPSeq-bZIP_tnt-bZIP53_col-chr1-5_GEM_events.narrowPeak.gz already downloaded.\n",
      "filelist.txt already downloaded.\n",
      "Downloading...GSE60141_RAW.tar\n"
     ]
    }
   ],
   "source": [
    "start = datetime.now()\n",
    "\n",
    "# Get All Files\n",
    "files = ftp.nlst()\n",
    "\n",
    "# Print out the files\n",
    "for file in files:\n",
    "    if (raw_data_dir / SERIES_ACCESSION / file).exists():\n",
    "        print(file, \"already downloaded.\")\n",
    "    else:\n",
    "        print(\"Downloading...\" + file)\n",
    "        ftp.retrbinary(\"RETR \" + file, open( raw_data_dir / SERIES_ACCESSION / file, 'wb').write)\n",
    "\n",
    "ftp.quit()\n",
    "\n",
    "end = datetime.now()\n",
    "diff = end - start"
   ]
  },
  {
   "cell_type": "code",
   "execution_count": 44,
   "id": "c853906d-edf8-4ffc-90a6-7e3d0c4ded44",
   "metadata": {},
   "outputs": [],
   "source": [
    "for f in (raw_data_dir / SERIES_ACCESSION).glob('*'):\n",
    "    if f.suffix == \".tar\":\n",
    "        tar = tarfile.open(f)\n",
    "        tar.extractall(raw_data_dir / SERIES_ACCESSION)\n",
    "        tar.close()"
   ]
  },
  {
   "cell_type": "markdown",
   "id": "632d777d-5bfc-4f59-934f-74c0d1392bda",
   "metadata": {},
   "source": [
    "### File names\n",
    "Add downloaded file names to metadata"
   ]
  },
  {
   "cell_type": "code",
   "execution_count": 45,
   "id": "ef2de8f1-38c9-4ab9-964f-9b4d25296d24",
   "metadata": {},
   "outputs": [],
   "source": [
    "def file_name(x):\n",
    "    if len(x[\"accession\"]) > 1:\n",
    "        prefix = SERIES_ACCESSION\n",
    "    else:\n",
    "        prefix = x[\"accession\"][0]\n",
    "    \n",
    "    file_name = raw_data_dir / SERIES_ACCESSION / f\"{prefix}_DAPSeq-{x['common title'].replace('.', '-')}-chr1-5_GEM_events.narrowPeak.gz\"\n",
    "\n",
    "    if file_name.exists():\n",
    "        return file_name\n",
    "    else:\n",
    "        print(file_name)\n",
    "        return None\n",
    "df[\"file_name\"] = df.apply(file_name, axis=1)"
   ]
  },
  {
   "cell_type": "code",
   "execution_count": 46,
   "id": "1989a716-4503-4c03-ac72-8d2ec189c234",
   "metadata": {},
   "outputs": [],
   "source": [
    "df['title'] = df['title'].apply(lambda x: ','.join(sorted(x)))\n",
    "df['accession'] = df['accession'].apply(lambda x: ','.join(sorted(x)))"
   ]
  },
  {
   "cell_type": "markdown",
   "id": "792dd87c-5d80-4434-95bc-090f42ede934",
   "metadata": {},
   "source": [
    "## Save metadata"
   ]
  },
  {
   "cell_type": "code",
   "execution_count": 47,
   "id": "f74cf28b-7f6a-4783-96dc-80f21f522c53",
   "metadata": {},
   "outputs": [
    {
     "data": {
      "text/plain": [
       "PosixPath('../parsed_data/sample_metadata.tsv')"
      ]
     },
     "execution_count": 47,
     "metadata": {},
     "output_type": "execute_result"
    }
   ],
   "source": [
    "df.to_csv(parsed_data_dir / \"sample_metadata.tsv\", sep=\"\\t\")\n",
    "parsed_data_dir / \"sample_metadata.tsv\""
   ]
  },
  {
   "cell_type": "code",
   "execution_count": 48,
   "id": "46148e65-19b6-4237-b4db-087aab3612bb",
   "metadata": {},
   "outputs": [
    {
     "name": "stdout",
     "output_type": "stream",
     "text": [
      "gene id\tdna source\tsummary\ttaxon\tprotein\tprotein family\tprotein affinity tag\texpression system\treplicate\ttitle\taccession\tcommon title\tfile_name\n",
      "AT1G01060\tcol\tyoung leaf\tArabidopsis thaliana\tLHY1\tMYBrelated\tHalo\ttnt\ta\tMYBrelated_tnt.LHY1_col_a\tGSM1925527\tMYBrelated_tnt.LHY1_col_a\t../raw_data/GSE60141/GSM1925527_DAPSeq-MYBrelated_tnt-LHY1_col_a-chr1-5_GEM_events.narrowPeak.gz\n",
      "AT1G01060\tcolamp\tyoung leaf\tArabidopsis thaliana\tLHY1\tMYBrelated\tHalo\ttnt\ta\tMYBrelated_tnt.LHY1_colamp_a\tGSM1925526\tMYBrelated_tnt.LHY1_colamp_a\t../raw_data/GSE60141/GSM1925526_DAPSeq-MYBrelated_tnt-LHY1_colamp_a-chr1-5_GEM_events.narrowPeak.gz\n",
      "AT1G01250\tcol\tyoung leaf\tArabidopsis thaliana\tAT1G01250\tAP2EREBP\tHalo\ttnt\ta\tAP2EREBP_tnt.AT1G01250_col_a\tGSM1925016\tAP2EREBP_tnt.AT1G01250_col_a\t../raw_data/GSE60141/GSM1925016_DAPSeq-AP2EREBP_tnt-AT1G01250_col_a-chr1-5_GEM_events.narrowPeak.gz\n",
      "AT1G01720\tcol\tyoung leaf\tArabidopsis thaliana\tATAF1\tNAC\tHalo\ttnt\ta\tNAC_tnt.ATAF1_col_a\tGSM1925578\tNAC_tnt.ATAF1_col_a\t../raw_data/GSE60141/GSM1925578_DAPSeq-NAC_tnt-ATAF1_col_a-chr1-5_GEM_events.narrowPeak.gz\n",
      "AT1G02230\tcol\tyoung leaf\tArabidopsis thaliana\tANAC004\tNAC\tHalo\ttnt\ta\tNAC_tnt.ANAC004_col_a\tGSM1925535\tNAC_tnt.ANAC004_col_a\t../raw_data/GSE60141/GSM1925535_DAPSeq-NAC_tnt-ANAC004_col_a-chr1-5_GEM_events.narrowPeak.gz\n",
      "AT1G02230\tcolamp\tyoung leaf\tArabidopsis thaliana\tANAC004\tNAC\tHalo\ttnt\ta\tNAC_tnt.ANAC004_colamp_a\tGSM1925534\tNAC_tnt.ANAC004_colamp_a\t../raw_data/GSE60141/GSM1925534_DAPSeq-NAC_tnt-ANAC004_colamp_a-chr1-5_GEM_events.narrowPeak.gz\n",
      "AT1G02250\tcol\tyoung leaf\tArabidopsis thaliana\tANAC005\tNAC\tHalo\ttnt\ta\tNAC_tnt.ANAC005_col_a\tGSM1925536\tNAC_tnt.ANAC005_col_a\t../raw_data/GSE60141/GSM1925536_DAPSeq-NAC_tnt-ANAC005_col_a-chr1-5_GEM_events.narrowPeak.gz\n",
      "AT1G03800\tcol\tyoung leaf\tArabidopsis thaliana\tERF10\tAP2EREBP\tHalo\ttnt\ta\tAP2EREBP_tnt.ERF10_col_a\tGSM1925085\tAP2EREBP_tnt.ERF10_col_a\t../raw_data/GSE60141/GSM1925085_DAPSeq-AP2EREBP_tnt-ERF10_col_a-chr1-5_GEM_events.narrowPeak.gz\n",
      "AT1G03840\tcolamp\tyoung leaf\tArabidopsis thaliana\tMGP\tC2H2\tHalo\ttnt\ta\tC2H2_tnt.MGP_colamp_a\tGSM1925246\tC2H2_tnt.MGP_colamp_a\t../raw_data/GSE60141/GSM1925246_DAPSeq-C2H2_tnt-MGP_colamp_a-chr1-5_GEM_events.narrowPeak.gz\n"
     ]
    }
   ],
   "source": [
    "!head ../parsed_data/sample_metadata.tsv"
   ]
  },
  {
   "cell_type": "code",
   "execution_count": 123,
   "id": "e487d96c-bdc9-497f-9cf8-0ac909152875",
   "metadata": {},
   "outputs": [],
   "source": [
    "# END"
   ]
  },
  {
   "cell_type": "markdown",
   "id": "b3d88bc5-2386-4cc9-b5a3-ae7256b1d34d",
   "metadata": {},
   "source": [
    "A check that the files match Ecker files... "
   ]
  },
  {
   "cell_type": "code",
   "execution_count": 31,
   "id": "b15ff618-ef7e-41d8-a831-1318064038dc",
   "metadata": {
    "scrolled": true
   },
   "outputs": [],
   "source": [
    "path = \"../raw_data/not-used/dap_download_may2016_peaks.zip\"\n",
    "import os\n",
    "import zipfile\n",
    "\n",
    "ecker_file_titles = set()\n",
    "for item in zipfile.ZipFile(path).namelist():\n",
    "    ecker_file_titles.update([\".\".join(item.split(\"/\")[2:4])])"
   ]
  },
  {
   "cell_type": "code",
   "execution_count": 32,
   "id": "86c3e422-36b6-41f8-99b9-c5e4d969ddd7",
   "metadata": {},
   "outputs": [
    {
     "data": {
      "text/plain": [
       "568"
      ]
     },
     "execution_count": 32,
     "metadata": {},
     "output_type": "execute_result"
    }
   ],
   "source": [
    "len(ecker_file_titles)"
   ]
  },
  {
   "cell_type": "code",
   "execution_count": 33,
   "id": "30f2d0fd-3634-49ca-8b91-44fe2639a9ee",
   "metadata": {},
   "outputs": [
    {
     "data": {
      "text/plain": [
       "568"
      ]
     },
     "execution_count": 33,
     "metadata": {},
     "output_type": "execute_result"
    }
   ],
   "source": [
    "df[df[\"common title\"].isin(ecker_file_titles)].shape[0]"
   ]
  },
  {
   "cell_type": "code",
   "execution_count": 34,
   "id": "22cd7fda-a8bd-4c18-b837-bbe5be92dbce",
   "metadata": {},
   "outputs": [
    {
     "data": {
      "text/html": [
       "<div>\n",
       "<style scoped>\n",
       "    .dataframe tbody tr th:only-of-type {\n",
       "        vertical-align: middle;\n",
       "    }\n",
       "\n",
       "    .dataframe tbody tr th {\n",
       "        vertical-align: top;\n",
       "    }\n",
       "\n",
       "    .dataframe thead th {\n",
       "        text-align: right;\n",
       "    }\n",
       "</style>\n",
       "<table border=\"1\" class=\"dataframe\">\n",
       "  <thead>\n",
       "    <tr style=\"text-align: right;\">\n",
       "      <th></th>\n",
       "      <th></th>\n",
       "      <th>summary</th>\n",
       "      <th>gene id</th>\n",
       "      <th>taxon</th>\n",
       "      <th>protein</th>\n",
       "      <th>protein family</th>\n",
       "      <th>protein affinity tag</th>\n",
       "      <th>expression system</th>\n",
       "      <th>dna source</th>\n",
       "      <th>title</th>\n",
       "      <th>replicate</th>\n",
       "      <th>common title</th>\n",
       "    </tr>\n",
       "    <tr>\n",
       "      <th>gene id</th>\n",
       "      <th>dna source</th>\n",
       "      <th></th>\n",
       "      <th></th>\n",
       "      <th></th>\n",
       "      <th></th>\n",
       "      <th></th>\n",
       "      <th></th>\n",
       "      <th></th>\n",
       "      <th></th>\n",
       "      <th></th>\n",
       "      <th></th>\n",
       "      <th></th>\n",
       "    </tr>\n",
       "  </thead>\n",
       "  <tbody>\n",
       "  </tbody>\n",
       "</table>\n",
       "</div>"
      ],
      "text/plain": [
       "Empty DataFrame\n",
       "Columns: [summary, gene id, taxon, protein, protein family, protein affinity tag, expression system, dna source, title, replicate, common title]\n",
       "Index: []"
      ]
     },
     "execution_count": 34,
     "metadata": {},
     "output_type": "execute_result"
    }
   ],
   "source": [
    "df[~df[\"common title\"].isin(ecker_file_titles)]"
   ]
  },
  {
   "cell_type": "code",
   "execution_count": null,
   "id": "9a3b34e1-2fd7-4010-9b26-28f725a59373",
   "metadata": {},
   "outputs": [],
   "source": []
  }
 ],
 "metadata": {
  "kernelspec": {
   "display_name": "Python [conda env:python-env]",
   "language": "python",
   "name": "conda-env-python-env-py"
  },
  "language_info": {
   "codemirror_mode": {
    "name": "ipython",
    "version": 3
   },
   "file_extension": ".py",
   "mimetype": "text/x-python",
   "name": "python",
   "nbconvert_exporter": "python",
   "pygments_lexer": "ipython3",
   "version": "3.10.13"
  }
 },
 "nbformat": 4,
 "nbformat_minor": 5
}
