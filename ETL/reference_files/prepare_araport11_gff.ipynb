{
 "cells": [
  {
   "cell_type": "markdown",
   "metadata": {},
   "source": [
    "# Replace non utf-8 charaters from Araport 11 GFF, Ensure \"attributes\" column is uncorrupted\n",
    "\n",
    "## Description\n",
    "GFF as downloaded from Araport contains nasty (non UTF-8) symbols, and \";\" in arritubute values. \n",
    "\n",
    "\n",
    "\n",
    "Here, we remove (replace where possible) them, to prevent downstream software freaking out. "
   ]
  },
  {
   "cell_type": "markdown",
   "metadata": {},
   "source": [
    "## Library import\n",
    "We import all the required Python libraries"
   ]
  },
  {
   "cell_type": "code",
   "execution_count": 1,
   "metadata": {},
   "outputs": [],
   "source": [
    "import codecs, gzip, shutil\n",
    "\n",
    "# IO\n",
    "from pathlib import Path\n",
    "\n",
    "# Test results with BedTools\n",
    "from pybedtools import BedTool\n",
    "from pybedtools.helpers import cleanup as bedtools_cleanup"
   ]
  },
  {
   "cell_type": "markdown",
   "metadata": {},
   "source": [
    "## Path definitions"
   ]
  },
  {
   "cell_type": "code",
   "execution_count": 2,
   "metadata": {
    "ExecuteTime": {
     "end_time": "2023-03-18T15:38:34.375159Z",
     "start_time": "2023-03-18T15:38:34.371735Z"
    }
   },
   "outputs": [],
   "source": [
    "base_dir = Path(\"./\")"
   ]
  },
  {
   "cell_type": "code",
   "execution_count": 3,
   "metadata": {},
   "outputs": [],
   "source": [
    "tair_gff = base_dir  / \"Araport11_GFF3_genes_transposons.current.gff.gz\"\n",
    "new_tair_gff = base_dir  / \"Araport11_GFF3_genes_transposons.current_utf8.gff\""
   ]
  },
  {
   "cell_type": "markdown",
   "metadata": {},
   "source": [
    "## Replacement dictionary\n",
    "Manually created based on symbols present in Araport11 GFF. \n",
    "Not infallible."
   ]
  },
  {
   "cell_type": "code",
   "execution_count": 4,
   "metadata": {},
   "outputs": [],
   "source": [
    "utf8_replacements = {\n",
    "    b\"\\xe2\\x8f\\x91\": b\"Delta9\",       # Δ9\n",
    "    b\" \\xf0\\x95\\x91\\x85\": b\"Delta9\",  # Δ9\n",
    "   \n",
    "    b\"\\xf0\\x95\\x92\\xb6?\": b\"-2'\", # −2 and a prime?\n",
    "    b\"\\xe2\\x93\\xb5\": b\"Beta1\",    # β1,\n",
    "    b'\\xe2\\x88\\x92' :b\"-\",        # −\n",
    "    b\"\\xe2\\x80\\xb2\": b\"'\",        # ′\n",
    "    b\"\\xe2\\x86\\x92\": b\" to \",     # →\n",
    "    b\"\\xf0\\x98\\xb0\": b\" to \",     # ➝\n",
    "   \n",
    "    b\"\\xae\":b\"fi\",\n",
    "    b'\\xce\\xb1': b'Alpha',   # α\n",
    "    b\"\\xce\\xb2\": b\"Beta\",    # β\n",
    "    b\"\\xe2\\x80\\xb2\": b\"'\",   # ′\n",
    "    b\"\\xce\\xb3\": b\"gamma\",   # γ\n",
    "    b\"\\xce\\xb4\": b\"delta\",   # δ\n",
    "    b\"\\xce\\xb5\": b\"epsilon\", # ε \n",
    "    b\"\\xce\\xb6\": b\"zeta\",    # ζ \n",
    "    b\"\\xcf\\x89\": b\"omega\",   # ζ \n",
    "\n",
    "    b'\\xa1\\xaf' :b\"'\",       # ¡¯\n",
    "    b\"\\x96\": b\"-\",           # –\n",
    "    b\"\\x91\": b\"'\",           # ‘\n",
    "    b\"\\xb0\": b' degrees ',   # °\n",
    "    b\"\\xdf\": b'Beta',        # ß\n",
    "    b'\\xb1': b\"+/-\",         # ±\n",
    "    b'\\x92': b\"'\",           # ’\n",
    "    b'\\xd7': b\"x\",           # × \n",
    "    b'\\xb5': b\"mu\" ,\t     # µ\n",
    "    b'\\xad' :b\"\",\t\t     # ­ (sort-hyphen)\n",
    "    b'\\xa0' :b\" \",\t         #  \n",
    "    b'\\xc4' :b\"\",\t         # Ä\n",
    "    b\"\\xa5\": b\"3\", \n",
    "    b\"\\xa6\": b\"4\",\n",
    "    b'\\xe9' :b\"e\",           # é\n",
    "}"
   ]
  },
  {
   "cell_type": "markdown",
   "metadata": {},
   "source": [
    "# Read and rewrite\n"
   ]
  },
  {
   "cell_type": "markdown",
   "metadata": {},
   "source": [
    "## Cleaning functions\n"
   ]
  },
  {
   "cell_type": "code",
   "execution_count": 7,
   "metadata": {},
   "outputs": [],
   "source": [
    "def try_utf8(data):\n",
    "    try:\n",
    "        return data.decode('utf-8')\n",
    "    except UnicodeDecodeError:\n",
    "        return None\n",
    "\n",
    "def clean_line(line):\n",
    "    for key in utf8_replacements.keys():\n",
    "        line = line.replace(key, utf8_replacements[key])\n",
    "    return line\n",
    "\n",
    "\n",
    "araport_attribute_names = [b'ID', b'Name', b'full_name', b'computational_description', b'locus', b'locus_type', b'symbol', b'Note', b'Dbxref']\n",
    "def clean_attributes(line):\n",
    "    rest_of_line, attributes = line.rsplit(b\"\\t\", 1)\n",
    "    to_replace = []\n",
    "    for i, c in enumerate(attributes):\n",
    "        if bytes(bytes([c])) == b\";\":\n",
    "            next_text = attributes[i+1:].strip()\n",
    "            next_text_okay = False\n",
    "            for n in araport_attribute_names:\n",
    "                if next_text.startswith(n):\n",
    "                    next_text_okay = True\n",
    "                    break\n",
    "            \n",
    "            if not next_text_okay:\n",
    "                # print(next_text, attributes[i-5:i+5])\n",
    "                to_replace.append(i)\n",
    "            \n",
    "        # print(i, bytes([c]), attributes[i-5:i+5])\n",
    "\n",
    "    attributes = bytearray(attributes)\n",
    "    for i in to_replace[::-1]:\n",
    "        attributes[i:i+1] = b\",\"\n",
    "\n",
    "    line = rest_of_line + b\"\\t\" + attributes\n",
    "\n",
    "    return line"
   ]
  },
  {
   "cell_type": "code",
   "execution_count": 8,
   "metadata": {},
   "outputs": [],
   "source": [
    "not_utf8 = set()\n",
    "with gzip.open(tair_gff, 'rb') as f_in:\n",
    "    with open(new_tair_gff, 'wb') as f_out:\n",
    "        for line in f_in:\n",
    "            if (line.strip()==b\"\") or line.startswith(b\"#\"):\n",
    "                f_out.write(line.decode('utf-8','ignore').encode(\"utf-8\"))\n",
    "            else:\n",
    "                cleaned_line = clean_line(line)\n",
    "                data = try_utf8(cleaned_line)\n",
    "                if data is None: \n",
    "                    not_utf8.update(set(line.decode('latin-1')) - set(line.decode('utf-8','ignore').encode(\"utf-8\").decode('latin-1')))\n",
    "    \n",
    "                cleaned_line = clean_attributes(cleaned_line)\n",
    "                    \n",
    "                f_out.write(cleaned_line.decode('utf-8','ignore').encode(\"utf-8\"))"
   ]
  },
  {
   "cell_type": "code",
   "execution_count": 9,
   "metadata": {},
   "outputs": [],
   "source": [
    "# If not empty, use to manually define in utf8_replacements \n",
    "for x in not_utf8:\n",
    "    print(x.encode(\"latin1\"), \":  ,\\t\\t #\", x)"
   ]
  },
  {
   "cell_type": "code",
   "execution_count": 10,
   "metadata": {},
   "outputs": [],
   "source": [
    "with open(new_tair_gff, 'rb') as f_in:\n",
    "    with gzip.open(f'{new_tair_gff}.gz', 'wb') as f_out:\n",
    "        shutil.copyfileobj(f_in, f_out)"
   ]
  },
  {
   "cell_type": "markdown",
   "metadata": {},
   "source": [
    "# Test with bedtools\n",
    "\n",
    "_not needed to run_\n",
    "\n",
    "\";\" in attributes makes filtering on attributes not possible, See if we caught them all... "
   ]
  },
  {
   "cell_type": "code",
   "execution_count": 11,
   "metadata": {},
   "outputs": [],
   "source": [
    "bedtools_cleanup()"
   ]
  },
  {
   "cell_type": "code",
   "execution_count": 12,
   "metadata": {},
   "outputs": [],
   "source": [
    "araport_gff = BedTool(new_tair_gff)\n",
    "# araport_gff = araport_gff.sort()\n",
    "# len(araport_gff)"
   ]
  },
  {
   "cell_type": "code",
   "execution_count": 13,
   "metadata": {},
   "outputs": [],
   "source": [
    "list_of_ids = ['AT1G28450', 'AT1G28460']"
   ]
  },
  {
   "cell_type": "code",
   "execution_count": 14,
   "metadata": {},
   "outputs": [
    {
     "data": {
      "text/plain": [
       "<BedTool(/tmp/pybedtools.7ftve8z5.tmp)>"
      ]
     },
     "execution_count": 14,
     "metadata": {},
     "output_type": "execute_result"
    }
   ],
   "source": [
    "# prints \"bad\" features and stops, use to update note_replacement_values\n",
    "\n",
    "def name_filter(feature):\n",
    "    try:\n",
    "        return feature.attrs[\"ID\"] in list_of_ids\n",
    "    except:\n",
    "        print(feature)\n",
    "        raise\n",
    "    \n",
    "\n",
    "araport_gff.filter(name_filter).saveas()"
   ]
  },
  {
   "cell_type": "markdown",
   "metadata": {},
   "source": [
    "# Make gene only subset\n",
    "\n",
    "Can also do with bedtools. "
   ]
  },
  {
   "cell_type": "code",
   "execution_count": 15,
   "metadata": {},
   "outputs": [],
   "source": [
    "gene_tair_gff = base_dir  / \"Araport11_GFF3_genes_transposons.current_utf8_genes.gff\""
   ]
  },
  {
   "cell_type": "code",
   "execution_count": 16,
   "metadata": {},
   "outputs": [
    {
     "name": "stdout",
     "output_type": "stream",
     "text": [
      "33243\n"
     ]
    }
   ],
   "source": [
    "gene_count = 0\n",
    "with open(new_tair_gff, 'rb') as f_in:\n",
    "    with open(gene_tair_gff, 'wb') as f_out:\n",
    "        for line in f_in:\n",
    "            if line.startswith(b\"#\"):\n",
    "                f_out.write(line)\n",
    "                continue\n",
    "            for line in f_in:\n",
    "                if line.split(b\"\\t\")[2] == b\"gene\":             \n",
    "                    f_out.write(line)\n",
    "                    gene_count += 1\n",
    "print(gene_count)"
   ]
  },
  {
   "cell_type": "code",
   "execution_count": 17,
   "metadata": {},
   "outputs": [],
   "source": [
    "with open(gene_tair_gff, 'rb') as f_in:\n",
    "    with gzip.open(f'{gene_tair_gff}.gz', 'wb') as f_out:\n",
    "        shutil.copyfileobj(f_in, f_out)"
   ]
  },
  {
   "cell_type": "markdown",
   "metadata": {},
   "source": [
    "## Delete noncompressed files"
   ]
  },
  {
   "cell_type": "code",
   "execution_count": 18,
   "metadata": {},
   "outputs": [],
   "source": [
    "new_tair_gff.unlink()\n",
    "gene_tair_gff.unlink()"
   ]
  },
  {
   "cell_type": "code",
   "execution_count": null,
   "metadata": {},
   "outputs": [],
   "source": []
  }
 ],
 "metadata": {
  "kernelspec": {
   "display_name": "Python [conda env:python-env]",
   "language": "python",
   "name": "conda-env-python-env-py"
  },
  "language_info": {
   "codemirror_mode": {
    "name": "ipython",
    "version": 3
   },
   "file_extension": ".py",
   "mimetype": "text/x-python",
   "name": "python",
   "nbconvert_exporter": "python",
   "pygments_lexer": "ipython3",
   "version": "3.10.13"
  },
  "pycharm": {
   "stem_cell": {
    "cell_type": "raw",
    "metadata": {
     "collapsed": false
    },
    "source": []
   }
  },
  "toc": {
   "base_numbering": 1,
   "nav_menu": {},
   "number_sections": true,
   "sideBar": true,
   "skip_h1_title": false,
   "title_cell": "Table of Contents",
   "title_sidebar": "Contents",
   "toc_cell": false,
   "toc_position": {},
   "toc_section_display": true,
   "toc_window_display": true
  },
  "varInspector": {
   "cols": {
    "lenName": 16,
    "lenType": 16,
    "lenVar": 40
   },
   "kernels_config": {
    "python": {
     "delete_cmd_postfix": "",
     "delete_cmd_prefix": "del ",
     "library": "var_list.py",
     "varRefreshCmd": "print(var_dic_list())"
    },
    "r": {
     "delete_cmd_postfix": ") ",
     "delete_cmd_prefix": "rm(",
     "library": "var_list.r",
     "varRefreshCmd": "cat(var_dic_list()) "
    }
   },
   "types_to_exclude": [
    "module",
    "function",
    "builtin_function_or_method",
    "instance",
    "_Feature"
   ],
   "window_display": false
  }
 },
 "nbformat": 4,
 "nbformat_minor": 4
}
